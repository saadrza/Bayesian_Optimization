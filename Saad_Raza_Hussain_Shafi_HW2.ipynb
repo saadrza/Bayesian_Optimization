{
  "nbformat": 4,
  "nbformat_minor": 0,
  "metadata": {
    "colab": {
      "provenance": []
    },
    "kernelspec": {
      "name": "python3",
      "display_name": "Python 3"
    },
    "language_info": {
      "name": "python"
    }
  },
  "cells": [
    {
      "cell_type": "code",
      "execution_count": null,
      "metadata": {
        "colab": {
          "base_uri": "https://localhost:8080/"
        },
        "id": "GStT050jchj_",
        "outputId": "0ee757e1-5334-4cc6-c2be-fc4d15485d3f"
      },
      "outputs": [
        {
          "output_type": "stream",
          "name": "stdout",
          "text": [
            "Requirement already satisfied: botorch in /usr/local/lib/python3.10/dist-packages (0.9.5)\n",
            "Requirement already satisfied: multipledispatch in /usr/local/lib/python3.10/dist-packages (from botorch) (1.0.0)\n",
            "Requirement already satisfied: scipy in /usr/local/lib/python3.10/dist-packages (from botorch) (1.11.4)\n",
            "Requirement already satisfied: torch>=1.13.1 in /usr/local/lib/python3.10/dist-packages (from botorch) (2.1.0+cu121)\n",
            "Requirement already satisfied: pyro-ppl>=1.8.4 in /usr/local/lib/python3.10/dist-packages (from botorch) (1.8.6)\n",
            "Requirement already satisfied: gpytorch==1.11 in /usr/local/lib/python3.10/dist-packages (from botorch) (1.11)\n",
            "Requirement already satisfied: linear-operator==0.5.1 in /usr/local/lib/python3.10/dist-packages (from botorch) (0.5.1)\n",
            "Requirement already satisfied: scikit-learn in /usr/local/lib/python3.10/dist-packages (from gpytorch==1.11->botorch) (1.2.2)\n",
            "Requirement already satisfied: jaxtyping>=0.2.9 in /usr/local/lib/python3.10/dist-packages (from linear-operator==0.5.1->botorch) (0.2.25)\n",
            "Requirement already satisfied: typeguard~=2.13.3 in /usr/local/lib/python3.10/dist-packages (from linear-operator==0.5.1->botorch) (2.13.3)\n",
            "Requirement already satisfied: numpy>=1.7 in /usr/local/lib/python3.10/dist-packages (from pyro-ppl>=1.8.4->botorch) (1.23.5)\n",
            "Requirement already satisfied: opt-einsum>=2.3.2 in /usr/local/lib/python3.10/dist-packages (from pyro-ppl>=1.8.4->botorch) (3.3.0)\n",
            "Requirement already satisfied: pyro-api>=0.1.1 in /usr/local/lib/python3.10/dist-packages (from pyro-ppl>=1.8.4->botorch) (0.1.2)\n",
            "Requirement already satisfied: tqdm>=4.36 in /usr/local/lib/python3.10/dist-packages (from pyro-ppl>=1.8.4->botorch) (4.66.1)\n",
            "Requirement already satisfied: filelock in /usr/local/lib/python3.10/dist-packages (from torch>=1.13.1->botorch) (3.13.1)\n",
            "Requirement already satisfied: typing-extensions in /usr/local/lib/python3.10/dist-packages (from torch>=1.13.1->botorch) (4.5.0)\n",
            "Requirement already satisfied: sympy in /usr/local/lib/python3.10/dist-packages (from torch>=1.13.1->botorch) (1.12)\n",
            "Requirement already satisfied: networkx in /usr/local/lib/python3.10/dist-packages (from torch>=1.13.1->botorch) (3.2.1)\n",
            "Requirement already satisfied: jinja2 in /usr/local/lib/python3.10/dist-packages (from torch>=1.13.1->botorch) (3.1.3)\n",
            "Requirement already satisfied: fsspec in /usr/local/lib/python3.10/dist-packages (from torch>=1.13.1->botorch) (2023.6.0)\n",
            "Requirement already satisfied: triton==2.1.0 in /usr/local/lib/python3.10/dist-packages (from torch>=1.13.1->botorch) (2.1.0)\n",
            "Requirement already satisfied: MarkupSafe>=2.0 in /usr/local/lib/python3.10/dist-packages (from jinja2->torch>=1.13.1->botorch) (2.1.3)\n",
            "Requirement already satisfied: joblib>=1.1.1 in /usr/local/lib/python3.10/dist-packages (from scikit-learn->gpytorch==1.11->botorch) (1.3.2)\n",
            "Requirement already satisfied: threadpoolctl>=2.0.0 in /usr/local/lib/python3.10/dist-packages (from scikit-learn->gpytorch==1.11->botorch) (3.2.0)\n",
            "Requirement already satisfied: mpmath>=0.19 in /usr/local/lib/python3.10/dist-packages (from sympy->torch>=1.13.1->botorch) (1.3.0)\n"
          ]
        }
      ],
      "source": [
        "pip install botorch"
      ]
    },
    {
      "cell_type": "markdown",
      "source": [
        "**Loading the dataset and cleaning it.**\n",
        "This Python code uses the pandas library to manipulate a dataset from a CSV file. The dataset is read from the 'Assignment_data.csv' file into a pandas DataFrame named data. The code then selects specific columns, specified by feature_cols (including \"Cut Height,\" \"Trim height,\" and \"Trim width\") and label_col (\"Flight time\"). The DataFrame is updated to include only the selected columns, effectively filtering out any unnecessary data. Finally, duplicate rows with the same values in the specified feature columns are removed, ensuring uniqueness in the dataset."
      ],
      "metadata": {
        "id": "9f5louLzKzKL"
      }
    },
    {
      "cell_type": "code",
      "source": [
        "from typing import Tuple, List\n",
        "import pandas as pd\n",
        "\n",
        "DATASET = 'Assignment_data.csv' # Here you can put the dataset exported from excel\n",
        "\n",
        "data = pd.read_csv(DATASET)\n",
        "\n",
        "feature_cols = [\n",
        "    \"Cut Height\",\n",
        "    \"Trim height\",\n",
        "    \"Trim width\"\n",
        "]\n",
        "\n",
        "label_col = [\"Flight time\"]\n",
        "\n",
        "data = data[feature_cols + label_col]\n",
        "data = data.drop_duplicates(subset=feature_cols)"
      ],
      "metadata": {
        "id": "_rZDASoZcvL-"
      },
      "execution_count": null,
      "outputs": []
    },
    {
      "cell_type": "markdown",
      "source": [
        "This Python code utilizes the PyTorch and GPyTorch libraries to define a Gaussian Process (GP) regression model. The `get_gp` function takes input data `X` and corresponding targets `y`, along with specified components for the mean (`mean_module`), covariance (`covar_module`), and likelihood of the GP. It then creates a SingleTaskGP (a type of Gaussian Process model) using these components.\n",
        "\n",
        "The SingleTaskGP is configured with the provided mean, covariance, and likelihood modules. The `ExactMarginalLogLikelihood` (mll) is also instantiated, serving as the objective function for training the GP. This function is essential for maximizing the likelihood of the observed data under the GP model.\n",
        "\n",
        "This code is a modular and reusable way to set up a Gaussian Process regression model, allowing users to easily experiment with different mean, covariance, and likelihood functions for various tasks in machine learning, optimization, or Bayesian modeling."
      ],
      "metadata": {
        "id": "fMj8OJdZLiVe"
      }
    },
    {
      "cell_type": "code",
      "source": [
        "import torch\n",
        "import gpytorch\n",
        "from gpytorch.mlls import ExactMarginalLogLikelihood\n",
        "from botorch.models import SingleTaskGP\n",
        "\n",
        "# Custom function that creates a GP and mll object from data and model settings\n",
        "def get_gp(\n",
        "    X: torch.Tensor,\n",
        "    y: torch.Tensor,\n",
        "    mean_module: gpytorch.means.Mean,\n",
        "    covar_module: gpytorch.kernels.Kernel,\n",
        "    likelihood: gpytorch.likelihoods.Likelihood\n",
        ") -> Tuple[\n",
        "    gpytorch.models.GP,\n",
        "    gpytorch.mlls.MarginalLogLikelihood\n",
        "]:\n",
        "    gp = SingleTaskGP(\n",
        "        X, y,\n",
        "        mean_module=mean_module,\n",
        "        covar_module=covar_module,\n",
        "        likelihood=likelihood\n",
        "    )\n",
        "    mll = ExactMarginalLogLikelihood(gp.likelihood, gp)\n",
        "    return gp, mll"
      ],
      "metadata": {
        "id": "axm5EUHtdE5p"
      },
      "execution_count": null,
      "outputs": []
    },
    {
      "cell_type": "markdown",
      "source": [
        "This code section initializes training and test data splits for a machine learning model. It first sets the variable `test_data` to 5, indicating the number of samples to be used for testing. The `data` DataFrame is then shuffled (`sample(frac=1.)`) to ensure randomness in the dataset.\n",
        "\n",
        "The features (`X`) and labels (`y`) are extracted from the DataFrame and converted to NumPy arrays. The dataset is split into training and test sets based on the specified `test_data`. The training set (`X_train` and `y_train`) includes all data except the last 5 samples, while the test set (`X_test` and `y_test`) comprises the last 5 samples.\n",
        "\n",
        "The code prints the shapes of the training and test sets to the console, providing insights into the dataset's structure.\n",
        "\n",
        "This process is a common practice in machine learning to assess model performance. By splitting the data into training and test sets, it enables the model to learn patterns from the training data and assess its generalization on unseen data, represented by the test set. The shuffle operation ensures a random distribution, reducing the risk of biased training or testing sets."
      ],
      "metadata": {
        "id": "ZB-qK3fQL2Vz"
      }
    },
    {
      "cell_type": "code",
      "source": [
        "# Initialize train/test data\n",
        "test_data = 5\n",
        "\n",
        "data = data.sample(frac=1.)\n",
        "\n",
        "X = data[feature_cols].to_numpy()\n",
        "y = data[label_col].to_numpy()\n",
        "\n",
        "X_train = torch.from_numpy(X[:-test_data])\n",
        "y_train = torch.from_numpy(y[:-test_data])\n",
        "\n",
        "X_test = torch.from_numpy(X[-test_data:])\n",
        "y_test = torch.from_numpy(y[-test_data:])\n",
        "\n",
        "print(f\"Train set: {X_train.shape}\")\n",
        "print(f\"Test set: {X_test.shape}\")"
      ],
      "metadata": {
        "colab": {
          "base_uri": "https://localhost:8080/"
        },
        "id": "_if47fgpdQbQ",
        "outputId": "32e59e31-6199-45a9-fd4f-07ab749bb8f7"
      },
      "execution_count": null,
      "outputs": [
        {
          "output_type": "stream",
          "name": "stdout",
          "text": [
            "Train set: torch.Size([9, 3])\n",
            "Test set: torch.Size([5, 3])\n"
          ]
        }
      ]
    },
    {
      "cell_type": "code",
      "source": [
        "import matplotlib.pyplot as plt\n",
        "plt.scatter(X_train[:,:1], y_train,  s=100, label='Cut Height')\n",
        "plt.scatter(X_train[:,1:2], y_train, s=200, label='Trim height')\n",
        "plt.scatter(X_train[:,2:3], y_train, s=500, label='Trim Width')"
      ],
      "metadata": {
        "colab": {
          "base_uri": "https://localhost:8080/",
          "height": 447
        },
        "id": "2gzbdXQr2qY3",
        "outputId": "fe17326a-53a9-4d3f-a918-9d4780ee41d8"
      },
      "execution_count": null,
      "outputs": [
        {
          "output_type": "execute_result",
          "data": {
            "text/plain": [
              "<matplotlib.collections.PathCollection at 0x7e8562e12680>"
            ]
          },
          "metadata": {},
          "execution_count": 182
        },
        {
          "output_type": "display_data",
          "data": {
            "text/plain": [
              "<Figure size 640x480 with 1 Axes>"
            ],
            "image/png": "[encoded data removed]"
          },
          "metadata": {}
        }
      ]
    },
    {
      "cell_type": "markdown",
      "source": [
        "Creating a cross validation training dataset for optimizing our choice for the GP process and trying different kernels"
      ],
      "metadata": {
        "id": "LWyGdJ4IYgHn"
      }
    },
    {
      "cell_type": "code",
      "source": [
        "from gpytorch.means import ConstantMean\n",
        "from gpytorch.kernels import ScaleKernel, RBFKernel, MaternKernel\n",
        "from gpytorch.likelihoods import GaussianLikelihood\n",
        "\n",
        "from botorch.fit import fit_gpytorch_mll\n",
        "from botorch.cross_validation import gen_loo_cv_folds\n",
        "\n",
        "# Build CV folds\n",
        "cv_fold = gen_loo_cv_folds(X_train, y_train)"
      ],
      "metadata": {
        "id": "hUGAtPohNUh9"
      },
      "execution_count": null,
      "outputs": []
    },
    {
      "cell_type": "markdown",
      "source": [
        "**GP with RBF Kernel**"
      ],
      "metadata": {
        "id": "Q-YV1KMSgfQu"
      }
    },
    {
      "cell_type": "code",
      "source": [
        "KernelRBF = ScaleKernel(RBFKernel())\n",
        "# Create one single GP in batch mode\n",
        "gp, mll = get_gp(\n",
        "    cv_fold.train_X,\n",
        "    cv_fold.train_Y,\n",
        "    ConstantMean(),\n",
        "    KernelRBF,\n",
        "    GaussianLikelihood()\n",
        ")\n",
        "\n",
        "mll = fit_gpytorch_mll(mll)\n",
        "\n",
        "with torch.no_grad():\n",
        "    posterior = gp.posterior(cv_fold.test_X)\n",
        "    mean = posterior.mean\n",
        "\n",
        "cv_error_RBF = torch.sqrt(((cv_fold.test_Y.squeeze() - mean.squeeze()) ** 2).mean())\n",
        "\n",
        "print(f\"CV RMSE RBF: {cv_error_RBF:.2f}\")"
      ],
      "metadata": {
        "colab": {
          "base_uri": "https://localhost:8080/"
        },
        "id": "dqUxBF2UeSIP",
        "outputId": "7cefc9b2-9cda-4b3b-e7cc-f3a07da34202"
      },
      "execution_count": null,
      "outputs": [
        {
          "output_type": "stream",
          "name": "stdout",
          "text": [
            "CV RMSE RBF: 0.67\n"
          ]
        },
        {
          "output_type": "stream",
          "name": "stderr",
          "text": [
            "/usr/local/lib/python3.10/dist-packages/botorch/models/utils/assorted.py:174: InputDataWarning: Input data is not contained to the unit cube. Please consider min-max scaling the input data.\n",
            "  warnings.warn(msg, InputDataWarning)\n",
            "/usr/local/lib/python3.10/dist-packages/botorch/models/utils/assorted.py:202: InputDataWarning: Input data is not standardized (mean = tensor([[2.6762],\n",
            "        [2.7425],\n",
            "        [2.7500],\n",
            "        [2.6513],\n",
            "        [2.7100],\n",
            "        [2.6362],\n",
            "        [2.4650],\n",
            "        [2.6688],\n",
            "        [2.7500]], dtype=torch.float64), std = tensor([[0.7598],\n",
            "        [0.7258],\n",
            "        [0.7179],\n",
            "        [0.7570],\n",
            "        [0.7502],\n",
            "        [0.7512],\n",
            "        [0.3686],\n",
            "        [0.7599],\n",
            "        [0.7179]], dtype=torch.float64)). Please consider scaling the input to zero mean and unit variance.\n",
            "  warnings.warn(msg, InputDataWarning)\n"
          ]
        }
      ]
    },
    {
      "cell_type": "markdown",
      "source": [
        "**GP with Matern Kernel**"
      ],
      "metadata": {
        "id": "uZiNFI0iM8rm"
      }
    },
    {
      "cell_type": "code",
      "source": [
        "# Create one single GP in batch mode\n",
        "gp, mll = get_gp(\n",
        "    cv_fold.train_X,\n",
        "    cv_fold.train_Y,\n",
        "    ConstantMean(),\n",
        "    ScaleKernel(MaternKernel()),\n",
        "    GaussianLikelihood()\n",
        ")\n",
        "\n",
        "mll = fit_gpytorch_mll(mll)\n",
        "\n",
        "with torch.no_grad():\n",
        "    posterior = gp.posterior(cv_fold.test_X)\n",
        "    mean = posterior.mean\n",
        "\n",
        "cv_error_matern = torch.sqrt(((cv_fold.test_Y.squeeze() - mean.squeeze()) ** 2).mean())\n",
        "\n",
        "print(f\"CV RMSE Matern: {cv_error_matern:.2f}\")"
      ],
      "metadata": {
        "colab": {
          "base_uri": "https://localhost:8080/"
        },
        "id": "h4axZjV_u183",
        "outputId": "8caaecb7-0846-49ed-8e53-abccfa1081fc"
      },
      "execution_count": null,
      "outputs": [
        {
          "output_type": "stream",
          "name": "stderr",
          "text": [
            "/usr/local/lib/python3.10/dist-packages/botorch/models/utils/assorted.py:174: InputDataWarning: Input data is not contained to the unit cube. Please consider min-max scaling the input data.\n",
            "  warnings.warn(msg, InputDataWarning)\n",
            "/usr/local/lib/python3.10/dist-packages/botorch/models/utils/assorted.py:202: InputDataWarning: Input data is not standardized (mean = tensor([[2.6762],\n",
            "        [2.7425],\n",
            "        [2.7500],\n",
            "        [2.6513],\n",
            "        [2.7100],\n",
            "        [2.6362],\n",
            "        [2.4650],\n",
            "        [2.6688],\n",
            "        [2.7500]], dtype=torch.float64), std = tensor([[0.7598],\n",
            "        [0.7258],\n",
            "        [0.7179],\n",
            "        [0.7570],\n",
            "        [0.7502],\n",
            "        [0.7512],\n",
            "        [0.3686],\n",
            "        [0.7599],\n",
            "        [0.7179]], dtype=torch.float64)). Please consider scaling the input to zero mean and unit variance.\n",
            "  warnings.warn(msg, InputDataWarning)\n"
          ]
        },
        {
          "output_type": "stream",
          "name": "stdout",
          "text": [
            "CV RMSE Matern: 0.63\n"
          ]
        }
      ]
    },
    {
      "cell_type": "markdown",
      "source": [
        "**GP with Matern kernel and nu=2.5**"
      ],
      "metadata": {
        "id": "p2eRmw7fgq-M"
      }
    },
    {
      "cell_type": "code",
      "source": [
        "# Create one single GP in batch mode\n",
        "gp, mll = get_gp(\n",
        "    cv_fold.train_X,\n",
        "    cv_fold.train_Y,\n",
        "    ConstantMean(),\n",
        "    ScaleKernel(MaternKernel(nu=2.5, ard_num_dims=1)),\n",
        "    GaussianLikelihood()\n",
        ")\n",
        "\n",
        "mll = fit_gpytorch_mll(mll)\n",
        "\n",
        "with torch.no_grad():\n",
        "    posterior = gp.posterior(cv_fold.test_X)\n",
        "    mean = posterior.mean\n",
        "\n",
        "cv_error_matern2 = torch.sqrt(((cv_fold.test_Y.squeeze() - mean.squeeze()) ** 2).mean())\n",
        "\n",
        "print(f\"CV RMSE Matern: {cv_error_matern2 :.2f}\")"
      ],
      "metadata": {
        "colab": {
          "base_uri": "https://localhost:8080/"
        },
        "outputId": "b4ee8500-b16e-4fff-8171-eb097b9d3c9f",
        "id": "Z957LKz-fwmU"
      },
      "execution_count": null,
      "outputs": [
        {
          "output_type": "stream",
          "name": "stderr",
          "text": [
            "/usr/local/lib/python3.10/dist-packages/botorch/models/utils/assorted.py:174: InputDataWarning: Input data is not contained to the unit cube. Please consider min-max scaling the input data.\n",
            "  warnings.warn(msg, InputDataWarning)\n",
            "/usr/local/lib/python3.10/dist-packages/botorch/models/utils/assorted.py:202: InputDataWarning: Input data is not standardized (mean = tensor([[2.6762],\n",
            "        [2.7425],\n",
            "        [2.7500],\n",
            "        [2.6513],\n",
            "        [2.7100],\n",
            "        [2.6362],\n",
            "        [2.4650],\n",
            "        [2.6688],\n",
            "        [2.7500]], dtype=torch.float64), std = tensor([[0.7598],\n",
            "        [0.7258],\n",
            "        [0.7179],\n",
            "        [0.7570],\n",
            "        [0.7502],\n",
            "        [0.7512],\n",
            "        [0.3686],\n",
            "        [0.7599],\n",
            "        [0.7179]], dtype=torch.float64)). Please consider scaling the input to zero mean and unit variance.\n",
            "  warnings.warn(msg, InputDataWarning)\n"
          ]
        },
        {
          "output_type": "stream",
          "name": "stdout",
          "text": [
            "CV RMSE Matern: 0.63\n"
          ]
        }
      ]
    },
    {
      "cell_type": "markdown",
      "source": [
        "**GP with Matern kernel and nu=1.5**"
      ],
      "metadata": {
        "id": "oqIz4rsEg10_"
      }
    },
    {
      "cell_type": "code",
      "source": [
        "# Create one single GP in batch mode\n",
        "gp, mll = get_gp(\n",
        "    cv_fold.train_X,\n",
        "    cv_fold.train_Y,\n",
        "    ConstantMean(),\n",
        "    ScaleKernel(MaternKernel(nu=1.5, ard_num_dims=1)),\n",
        "    GaussianLikelihood()\n",
        ")\n",
        "\n",
        "mll = fit_gpytorch_mll(mll)\n",
        "\n",
        "with torch.no_grad():\n",
        "    posterior = gp.posterior(cv_fold.test_X)\n",
        "    mean = posterior.mean\n",
        "\n",
        "cv_error_matern1 = torch.sqrt(((cv_fold.test_Y.squeeze() - mean.squeeze()) ** 2).mean())\n",
        "\n",
        "print(f\"CV RMSE Matern: {cv_error_matern1:.2f}\")"
      ],
      "metadata": {
        "colab": {
          "base_uri": "https://localhost:8080/"
        },
        "outputId": "d5814675-d6c0-4da8-f4eb-8b996a68d781",
        "id": "fiIA4LtkfvPi"
      },
      "execution_count": null,
      "outputs": [
        {
          "output_type": "stream",
          "name": "stderr",
          "text": [
            "/usr/local/lib/python3.10/dist-packages/botorch/models/utils/assorted.py:174: InputDataWarning: Input data is not contained to the unit cube. Please consider min-max scaling the input data.\n",
            "  warnings.warn(msg, InputDataWarning)\n",
            "/usr/local/lib/python3.10/dist-packages/botorch/models/utils/assorted.py:202: InputDataWarning: Input data is not standardized (mean = tensor([[2.6762],\n",
            "        [2.7425],\n",
            "        [2.7500],\n",
            "        [2.6513],\n",
            "        [2.7100],\n",
            "        [2.6362],\n",
            "        [2.4650],\n",
            "        [2.6688],\n",
            "        [2.7500]], dtype=torch.float64), std = tensor([[0.7598],\n",
            "        [0.7258],\n",
            "        [0.7179],\n",
            "        [0.7570],\n",
            "        [0.7502],\n",
            "        [0.7512],\n",
            "        [0.3686],\n",
            "        [0.7599],\n",
            "        [0.7179]], dtype=torch.float64)). Please consider scaling the input to zero mean and unit variance.\n",
            "  warnings.warn(msg, InputDataWarning)\n"
          ]
        },
        {
          "output_type": "stream",
          "name": "stdout",
          "text": [
            "CV RMSE Matern: 0.64\n"
          ]
        }
      ]
    },
    {
      "cell_type": "markdown",
      "source": [
        "**Adding the two kernels, RBF and Matern, for the analysis**"
      ],
      "metadata": {
        "id": "ttvy7IuJY4Cc"
      }
    },
    {
      "cell_type": "code",
      "source": [
        "KernelAdd = ScaleKernel(RBFKernel())+ScaleKernel(MaternKernel())\n",
        "\n",
        "# Create one single GP in batch mode\n",
        "gp, mll = get_gp(\n",
        "    cv_fold.train_X,\n",
        "    cv_fold.train_Y,\n",
        "    ConstantMean(),\n",
        "    KernelAdd,\n",
        "    GaussianLikelihood()\n",
        ")\n",
        "\n",
        "mll = fit_gpytorch_mll(mll)\n",
        "\n",
        "with torch.no_grad():\n",
        "    posterior = gp.posterior(cv_fold.test_X)\n",
        "    mean = posterior.mean\n",
        "\n",
        "cv_error_add = torch.sqrt(((cv_fold.test_Y.squeeze() - mean.squeeze()) ** 2).mean())\n",
        "\n",
        "print(f\"CV RMSE Addition: {cv_error_add:.2f}\")"
      ],
      "metadata": {
        "colab": {
          "base_uri": "https://localhost:8080/"
        },
        "id": "Jr-Z3mJYNPob",
        "outputId": "b9a4e6cd-6ead-4ba2-e108-fb084e0d4153"
      },
      "execution_count": null,
      "outputs": [
        {
          "output_type": "stream",
          "name": "stderr",
          "text": [
            "/usr/local/lib/python3.10/dist-packages/botorch/models/utils/assorted.py:174: InputDataWarning: Input data is not contained to the unit cube. Please consider min-max scaling the input data.\n",
            "  warnings.warn(msg, InputDataWarning)\n",
            "/usr/local/lib/python3.10/dist-packages/botorch/models/utils/assorted.py:202: InputDataWarning: Input data is not standardized (mean = tensor([[2.6762],\n",
            "        [2.7425],\n",
            "        [2.7500],\n",
            "        [2.6513],\n",
            "        [2.7100],\n",
            "        [2.6362],\n",
            "        [2.4650],\n",
            "        [2.6688],\n",
            "        [2.7500]], dtype=torch.float64), std = tensor([[0.7598],\n",
            "        [0.7258],\n",
            "        [0.7179],\n",
            "        [0.7570],\n",
            "        [0.7502],\n",
            "        [0.7512],\n",
            "        [0.3686],\n",
            "        [0.7599],\n",
            "        [0.7179]], dtype=torch.float64)). Please consider scaling the input to zero mean and unit variance.\n",
            "  warnings.warn(msg, InputDataWarning)\n"
          ]
        },
        {
          "output_type": "stream",
          "name": "stdout",
          "text": [
            "CV RMSE Addition: 0.63\n"
          ]
        }
      ]
    },
    {
      "cell_type": "markdown",
      "source": [
        "**Multipying the two kernels, RBF and Matern, for the analysis**"
      ],
      "metadata": {
        "id": "pGU4eB2vZCEn"
      }
    },
    {
      "cell_type": "code",
      "source": [
        "KernelMulti = ScaleKernel(RBFKernel())*ScaleKernel(MaternKernel())\n",
        "\n",
        "# Create one single GP in batch mode\n",
        "gp, mll = get_gp(\n",
        "    cv_fold.train_X,\n",
        "    cv_fold.train_Y,\n",
        "    ConstantMean(),\n",
        "    KernelMulti,\n",
        "    GaussianLikelihood()\n",
        ")\n",
        "\n",
        "mll = fit_gpytorch_mll(mll)\n",
        "\n",
        "with torch.no_grad():\n",
        "    posterior = gp.posterior(cv_fold.test_X)\n",
        "    mean = posterior.mean\n",
        "\n",
        "cv_error_multi = torch.sqrt(((cv_fold.test_Y.squeeze() - mean.squeeze()) ** 2).mean())\n",
        "\n",
        "print(f\"CV RMSE KernelMultiply: {cv_error_multi:.2f}\")"
      ],
      "metadata": {
        "colab": {
          "base_uri": "https://localhost:8080/"
        },
        "id": "3dkdvinwNs50",
        "outputId": "c0fc3f09-62b7-4989-f5c3-3ac3bc842fca"
      },
      "execution_count": null,
      "outputs": [
        {
          "output_type": "stream",
          "name": "stdout",
          "text": [
            "CV RMSE KernelMultiply: 0.67\n"
          ]
        },
        {
          "output_type": "stream",
          "name": "stderr",
          "text": [
            "/usr/local/lib/python3.10/dist-packages/botorch/models/utils/assorted.py:174: InputDataWarning: Input data is not contained to the unit cube. Please consider min-max scaling the input data.\n",
            "  warnings.warn(msg, InputDataWarning)\n",
            "/usr/local/lib/python3.10/dist-packages/botorch/models/utils/assorted.py:202: InputDataWarning: Input data is not standardized (mean = tensor([[2.6762],\n",
            "        [2.7425],\n",
            "        [2.7500],\n",
            "        [2.6513],\n",
            "        [2.7100],\n",
            "        [2.6362],\n",
            "        [2.4650],\n",
            "        [2.6688],\n",
            "        [2.7500]], dtype=torch.float64), std = tensor([[0.7598],\n",
            "        [0.7258],\n",
            "        [0.7179],\n",
            "        [0.7570],\n",
            "        [0.7502],\n",
            "        [0.7512],\n",
            "        [0.3686],\n",
            "        [0.7599],\n",
            "        [0.7179]], dtype=torch.float64)). Please consider scaling the input to zero mean and unit variance.\n",
            "  warnings.warn(msg, InputDataWarning)\n"
          ]
        }
      ]
    },
    {
      "cell_type": "markdown",
      "source": [
        "**Our final choice of GP is the RBF as kernel**"
      ],
      "metadata": {
        "id": "k-2mmxPjOSwP"
      }
    },
    {
      "cell_type": "code",
      "source": [
        "bounds = torch.tensor([\n",
        "    [0.1, 0.0, 0.0],\n",
        "    [14.85, 7.425, 7]\n",
        "])\n",
        "\n",
        "# x0 * 1 + x1 *(-1) >= 0.1\n",
        "ineq_constraint = [(torch.tensor([0, 1], dtype=torch.long), torch.tensor([1, -1], dtype=torch.float), 0.1)]"
      ],
      "metadata": {
        "id": "IuciARZhiEeT"
      },
      "execution_count": null,
      "outputs": []
    },
    {
      "cell_type": "markdown",
      "source": [
        "In the following section, three different acquisition functions are tested: ExpectedImprovement, Probability of Improvement and UCB."
      ],
      "metadata": {
        "id": "2FP_HRP7ZPui"
      }
    },
    {
      "cell_type": "code",
      "source": [
        "import numpy as np\n",
        "\n",
        "from botorch.acquisition import ExpectedImprovement\n",
        "from botorch.optim import optimize_acqf\n",
        "\n",
        "from scipy.spatial.distance import euclidean\n",
        "\n",
        "    # 1. Create a new GP with the best setup from cross validation\n",
        "gp, mll = get_gp(\n",
        "  X_train,\n",
        "  y_train,\n",
        "  ConstantMean(),\n",
        "  ScaleKernel(RBFKernel()),\n",
        "  GaussianLikelihood()\n",
        ")\n",
        "\n",
        "mll = fit_gpytorch_mll(mll)\n",
        "\n",
        "    # 2. Define and optimize an acquisition function\n",
        "acq_fun = ExpectedImprovement(model=gp, best_f=torch.max(y_train))\n",
        "X_new, acqf_val = optimize_acqf(\n",
        "        acq_function=acq_fun,\n",
        "        bounds=bounds,\n",
        "        q=1,\n",
        "        num_restarts=5,\n",
        "        raw_samples=20,\n",
        "        inequality_constraints=ineq_constraint\n",
        "    )\n",
        "X_new_RBF = torch.round(X_new, decimals=1)\n",
        "acqf_val_RBF= acqf_val\n",
        "print(X_new, acqf_val_RBF)"
      ],
      "metadata": {
        "colab": {
          "base_uri": "https://localhost:8080/"
        },
        "id": "Wh9yOeEmVggh",
        "outputId": "44898b94-0a65-4ee7-d9a7-a8ed7746118e"
      },
      "execution_count": null,
      "outputs": [
        {
          "output_type": "stream",
          "name": "stderr",
          "text": [
            "/usr/local/lib/python3.10/dist-packages/botorch/models/utils/assorted.py:174: InputDataWarning: Input data is not contained to the unit cube. Please consider min-max scaling the input data.\n",
            "  warnings.warn(msg, InputDataWarning)\n",
            "/usr/local/lib/python3.10/dist-packages/botorch/models/utils/assorted.py:202: InputDataWarning: Input data is not standardized (mean = tensor([2.8822], dtype=torch.float64), std = tensor([0.8880], dtype=torch.float64)). Please consider scaling the input to zero mean and unit variance.\n",
            "  warnings.warn(msg, InputDataWarning)\n"
          ]
        },
        {
          "output_type": "stream",
          "name": "stdout",
          "text": [
            "tensor([[10.4381,  0.8709,  2.3084]]) tensor(0.0014, dtype=torch.float64)\n"
          ]
        }
      ]
    },
    {
      "cell_type": "code",
      "source": [
        "from botorch.acquisition import ProbabilityOfImprovement\n",
        "\n",
        "    # 2. Define and optimize an acquisition function\n",
        "acq_fun = ProbabilityOfImprovement(model=gp, best_f=torch.max(y_train))\n",
        "X_new, acqf_val = optimize_acqf(\n",
        "        acq_function=acq_fun,\n",
        "        bounds=bounds,\n",
        "        q=1,\n",
        "        num_restarts=5,\n",
        "        raw_samples=20,\n",
        "        inequality_constraints=ineq_constraint\n",
        "    )\n",
        "\n",
        "X_new_POI = torch.round(X_new, decimals=1)\n",
        "acqf_val_POI= acqf_val\n",
        "print(X_new, acqf_val_POI)"
      ],
      "metadata": {
        "colab": {
          "base_uri": "https://localhost:8080/"
        },
        "id": "HqVUw872eb43",
        "outputId": "6b63f75e-7855-4cbe-b067-899e77977087"
      },
      "execution_count": null,
      "outputs": [
        {
          "output_type": "stream",
          "name": "stdout",
          "text": [
            "tensor([[12.8679,  0.7588,  5.6373]]) tensor(0.0072, dtype=torch.float64)\n"
          ]
        }
      ]
    },
    {
      "cell_type": "code",
      "source": [
        "from botorch.acquisition import UpperConfidenceBound\n",
        "\n",
        "    # 2. Define and optimize an acquisition function\n",
        "acq_fun = UpperConfidenceBound(model=gp, beta=0.1)\n",
        "X_new, acqf_val = optimize_acqf(\n",
        "        acq_function=acq_fun,\n",
        "        bounds=bounds,\n",
        "        q=1,\n",
        "        num_restarts=5,\n",
        "        raw_samples=20,\n",
        "        inequality_constraints=ineq_constraint\n",
        "    )\n",
        "X_new_UCB = torch.round(X_new, decimals=1)\n",
        "acqf_val_UCB= acqf_val\n",
        "print(X_new, acqf_val_UCB)"
      ],
      "metadata": {
        "colab": {
          "base_uri": "https://localhost:8080/"
        },
        "id": "pu6wLBpdfCuF",
        "outputId": "43c3296d-1753-4463-e0c2-77aded4add63"
      },
      "execution_count": null,
      "outputs": [
        {
          "output_type": "stream",
          "name": "stdout",
          "text": [
            "tensor([[7.8302e+00, 6.6236e-03, 3.1090e+00]]) tensor(3.0695, dtype=torch.float64)\n"
          ]
        }
      ]
    },
    {
      "cell_type": "code",
      "source": [
        "    plt.scatter(X_new_RBF[:,:1].numpy(), acqf_val_RBF.numpy(), s=200, label=f'{acq_fun} RBF')\n",
        "    plt.scatter(X_new_UCB[:,:1].numpy(), acqf_val_RBF.numpy(), s=200, label=f'{acq_fun} UCB')\n",
        "    plt.scatter(X_new_POI[:,:1].numpy(), acqf_val_POI.numpy(), s=200, label=f'{acq_fun} Acquisition')"
      ],
      "metadata": {
        "colab": {
          "base_uri": "https://localhost:8080/",
          "height": 447
        },
        "id": "-Vf4jr4VjQVk",
        "outputId": "e0602e54-23f8-41de-d6d1-ecf477c19623"
      },
      "execution_count": null,
      "outputs": [
        {
          "output_type": "execute_result",
          "data": {
            "text/plain": [
              "<matplotlib.collections.PathCollection at 0x7e8562dc0f70>"
            ]
          },
          "metadata": {},
          "execution_count": 208
        },
        {
          "output_type": "display_data",
          "data": {
            "text/plain": [
              "<Figure size 640x480 with 1 Axes>"
            ],
            "image/png": "[encoded data removed]"
          },
          "metadata": {}
        }
      ]
    },
    {
      "cell_type": "markdown",
      "source": [
        "Final BO LOOP"
      ],
      "metadata": {
        "id": "zHA7Lvu2Z0tj"
      }
    },
    {
      "cell_type": "code",
      "source": [
        "import numpy as np\n",
        "\n",
        "from botorch.acquisition import ExpectedImprovement\n",
        "from botorch.optim import optimize_acqf\n",
        "\n",
        "from scipy.spatial.distance import euclidean\n",
        "\n",
        "# Simulate BO\n",
        "for i in range(X_test.shape[0]):\n",
        "\n",
        "    # 1. Create a new GP with the best setup from cross validation\n",
        "    gp, mll = get_gp(\n",
        "        X_train,\n",
        "        y_train,\n",
        "        ConstantMean(),\n",
        "        ScaleKernel(RBFKernel()),\n",
        "        GaussianLikelihood()\n",
        "    )\n",
        "\n",
        "    mll = fit_gpytorch_mll(mll)\n",
        "\n",
        "    # 2. Define and optimize an acquisition function\n",
        "    acq_fun = ExpectedImprovement(model=gp, best_f=torch.max(y_train))\n",
        "\n",
        "    X_new, acqf_val = optimize_acqf(\n",
        "        acq_function=acq_fun,\n",
        "        bounds=bounds,\n",
        "        q=1,\n",
        "        num_restarts=5,\n",
        "        raw_samples=20,\n",
        "        inequality_constraints=ineq_constraint\n",
        "    )\n",
        "\n",
        "    X_new = torch.round(X_new, decimals=1)\n",
        "\n",
        "    # 3.a (Optional) Find the closes test point\n",
        "    best_idx = -1\n",
        "    best_dist = np.inf\n",
        "    for idx, test_point in enumerate(X_test):\n",
        "        cur_dist = euclidean(X_new.squeeze(), test_point)\n",
        "        if cur_dist < best_dist:\n",
        "            best_dist = cur_dist\n",
        "            best_idx = idx\n",
        "\n",
        "    # 3.b Update the dataset by adding the new point\n",
        "    X_test_new = X_test[best_idx]\n",
        "    y_test_new = y_test[best_idx]\n",
        "\n",
        "    # Remove from test set\n",
        "    X_test = torch.cat((X_test[:best_idx], X_test[best_idx + 1:]))\n",
        "    y_test = torch.cat((y_test[:best_idx], y_test[best_idx + 1:]))\n",
        "\n",
        "    print(f\"Round: {i}\")\n",
        "    print(f\" - New experimental point: {X_new}\")\n",
        "    print(f\" - New acquisition value: {acqf_val}\")\n",
        "    print(f\" - Test point: {X_test_new}\")\n",
        "    print(f\" - Test evaluation: {y_test_new}\")\n",
        "    print(F\" - Dataset shape: {X_train.shape[0]}\")\n",
        "    print(\"\")\n",
        "\n",
        "    X_train = torch.vstack((X_train, X_test_new))\n",
        "    y_train = torch.vstack((y_train, y_test_new))"
      ],
      "metadata": {
        "colab": {
          "base_uri": "https://localhost:8080/"
        },
        "id": "Y4kf_RFe53zF",
        "outputId": "b4334c99-a2a4-4a20-8d6e-b39a5aef8e54"
      },
      "execution_count": null,
      "outputs": [
        {
          "output_type": "stream",
          "name": "stderr",
          "text": [
            "/usr/local/lib/python3.10/dist-packages/botorch/models/utils/assorted.py:174: InputDataWarning: Input data is not contained to the unit cube. Please consider min-max scaling the input data.\n",
            "  warnings.warn(msg, InputDataWarning)\n",
            "/usr/local/lib/python3.10/dist-packages/botorch/models/utils/assorted.py:202: InputDataWarning: Input data is not standardized (mean = tensor([2.8822], dtype=torch.float64), std = tensor([0.8880], dtype=torch.float64)). Please consider scaling the input to zero mean and unit variance.\n",
            "  warnings.warn(msg, InputDataWarning)\n"
          ]
        },
        {
          "output_type": "stream",
          "name": "stdout",
          "text": [
            "Round: 0\n",
            " - New experimental point: tensor([[10.9000,  1.3000,  5.5000]])\n",
            " - New acquisition value: 0.001410349661947189\n",
            " - Test point: tensor([14.8500,  0.0000,  7.0000], dtype=torch.float64)\n",
            " - Test evaluation: tensor([3.9400], dtype=torch.float64)\n",
            " - Dataset shape: 9\n",
            "\n"
          ]
        },
        {
          "output_type": "stream",
          "name": "stderr",
          "text": [
            "/usr/local/lib/python3.10/dist-packages/botorch/models/utils/assorted.py:174: InputDataWarning: Input data is not contained to the unit cube. Please consider min-max scaling the input data.\n",
            "  warnings.warn(msg, InputDataWarning)\n",
            "/usr/local/lib/python3.10/dist-packages/botorch/models/utils/assorted.py:202: InputDataWarning: Input data is not standardized (mean = tensor([2.9880], dtype=torch.float64), std = tensor([0.9016], dtype=torch.float64)). Please consider scaling the input to zero mean and unit variance.\n",
            "  warnings.warn(msg, InputDataWarning)\n"
          ]
        },
        {
          "output_type": "stream",
          "name": "stdout",
          "text": [
            "Round: 1\n",
            " - New experimental point: tensor([[13.1000,  0.5000,  2.0000]])\n",
            " - New acquisition value: 0.002801251953991202\n",
            " - Test point: tensor([14.8500,  0.0000,  0.0000], dtype=torch.float64)\n",
            " - Test evaluation: tensor([3.0900], dtype=torch.float64)\n",
            " - Dataset shape: 10\n",
            "\n"
          ]
        },
        {
          "output_type": "stream",
          "name": "stderr",
          "text": [
            "/usr/local/lib/python3.10/dist-packages/botorch/models/utils/assorted.py:174: InputDataWarning: Input data is not contained to the unit cube. Please consider min-max scaling the input data.\n",
            "  warnings.warn(msg, InputDataWarning)\n",
            "/usr/local/lib/python3.10/dist-packages/botorch/models/utils/assorted.py:202: InputDataWarning: Input data is not standardized (mean = tensor([2.9973], dtype=torch.float64), std = tensor([0.8559], dtype=torch.float64)). Please consider scaling the input to zero mean and unit variance.\n",
            "  warnings.warn(msg, InputDataWarning)\n"
          ]
        },
        {
          "output_type": "stream",
          "name": "stdout",
          "text": [
            "Round: 2\n",
            " - New experimental point: tensor([[14.6000,  0.6000,  6.8000]])\n",
            " - New acquisition value: 0.004328285018625196\n",
            " - Test point: tensor([14.8500,  7.4250,  7.0000], dtype=torch.float64)\n",
            " - Test evaluation: tensor([2.9600], dtype=torch.float64)\n",
            " - Dataset shape: 11\n",
            "\n"
          ]
        },
        {
          "output_type": "stream",
          "name": "stderr",
          "text": [
            "/usr/local/lib/python3.10/dist-packages/botorch/models/utils/assorted.py:174: InputDataWarning: Input data is not contained to the unit cube. Please consider min-max scaling the input data.\n",
            "  warnings.warn(msg, InputDataWarning)\n",
            "/usr/local/lib/python3.10/dist-packages/botorch/models/utils/assorted.py:202: InputDataWarning: Input data is not standardized (mean = tensor([2.9942], dtype=torch.float64), std = tensor([0.8161], dtype=torch.float64)). Please consider scaling the input to zero mean and unit variance.\n",
            "  warnings.warn(msg, InputDataWarning)\n"
          ]
        },
        {
          "output_type": "stream",
          "name": "stdout",
          "text": [
            "Round: 3\n",
            " - New experimental point: tensor([[14.8000,  0.6000,  6.7000]])\n",
            " - New acquisition value: 0.003213948170079948\n",
            " - Test point: tensor([7.4250, 7.4250, 7.0000], dtype=torch.float64)\n",
            " - Test evaluation: tensor([2.1100], dtype=torch.float64)\n",
            " - Dataset shape: 12\n",
            "\n"
          ]
        },
        {
          "output_type": "stream",
          "name": "stderr",
          "text": [
            "/usr/local/lib/python3.10/dist-packages/botorch/models/utils/assorted.py:174: InputDataWarning: Input data is not contained to the unit cube. Please consider min-max scaling the input data.\n",
            "  warnings.warn(msg, InputDataWarning)\n",
            "/usr/local/lib/python3.10/dist-packages/botorch/models/utils/assorted.py:202: InputDataWarning: Input data is not standardized (mean = tensor([2.9262], dtype=torch.float64), std = tensor([0.8190], dtype=torch.float64)). Please consider scaling the input to zero mean and unit variance.\n",
            "  warnings.warn(msg, InputDataWarning)\n"
          ]
        },
        {
          "output_type": "stream",
          "name": "stdout",
          "text": [
            "Round: 4\n",
            " - New experimental point: tensor([[7.4000, 0.0000, 0.0000]])\n",
            " - New acquisition value: 0.00583971635215427\n",
            " - Test point: tensor([11.1375,  7.4250,  0.0000], dtype=torch.float64)\n",
            " - Test evaluation: tensor([2.6400], dtype=torch.float64)\n",
            " - Dataset shape: 13\n",
            "\n"
          ]
        }
      ]
    },
    {
      "cell_type": "markdown",
      "source": [
        "Adding the datapoints and experimental data collected ater running the BO loop first time. Results are not reproducible since intiial traing set is randomly shuffled each time the file is run."
      ],
      "metadata": {
        "id": "ls0GYpLDZ47-"
      }
    },
    {
      "cell_type": "code",
      "source": [
        "#array1 = np.array([10.2000, 9.1000, 1.4000])\n",
        "array2 = np.array([9.3000, 1.2000, 1.8000])\n",
        "#array3 = np.array([7.6,\t5.4,\t0.37])\n",
        "array4 = np.array([7.9,\t0.7,\t0.1])\n",
        "array11= np.array([9.1,\t0.,\t0.])\n",
        "#array5 = np.array([3.77])\n",
        "array6 = np.array([4.00])\n",
        "#array7 = np.array([2.96])\n",
        "array8 = np.array([3.68])\n",
        "array12= np.array([4.67])\n",
        "\n",
        "# Vertical stack\n",
        "X_test = np.vstack((X_test, array11, array2,  array4))\n",
        "y_test = np.vstack((y_test, array12, array6,  array8))\n",
        "print(type(X_test))\n",
        "X_test = torch.from_numpy(X_test)\n",
        "y_test = torch.from_numpy(y_test)"
      ],
      "metadata": {
        "colab": {
          "base_uri": "https://localhost:8080/"
        },
        "id": "JOHYuojXHTMA",
        "outputId": "01a8613d-6ce6-4782-9b2e-eccd91b16e22"
      },
      "execution_count": null,
      "outputs": [
        {
          "output_type": "stream",
          "name": "stdout",
          "text": [
            "<class 'numpy.ndarray'>\n"
          ]
        }
      ]
    },
    {
      "cell_type": "markdown",
      "source": [
        "BO loop with new experimental points and flight time recorded."
      ],
      "metadata": {
        "id": "RHQuOfY-aMUq"
      }
    },
    {
      "cell_type": "code",
      "source": [
        "import numpy as np\n",
        "\n",
        "from botorch.acquisition import ExpectedImprovement\n",
        "from botorch.optim import optimize_acqf\n",
        "\n",
        "from scipy.spatial.distance import euclidean\n",
        "\n",
        "# Simulate BO\n",
        "for i in range(X_test.shape[0]):\n",
        "\n",
        "    # 1. Create a new GP with the best setup from cross validation\n",
        "    gp, mll = get_gp(\n",
        "        X_train,\n",
        "        y_train,\n",
        "        ConstantMean(),\n",
        "        ScaleKernel(RBFKernel()),\n",
        "        GaussianLikelihood()\n",
        "    )\n",
        "\n",
        "    mll = fit_gpytorch_mll(mll)\n",
        "\n",
        "    # 2. Define and optimize an acquisition function\n",
        "    acq_fun = ExpectedImprovement(model=gp, best_f=torch.max(y_train))\n",
        "\n",
        "    X_new, acqf_val = optimize_acqf(\n",
        "        acq_function=acq_fun,\n",
        "        bounds=bounds,\n",
        "        q=1,\n",
        "        num_restarts=5,\n",
        "        raw_samples=20,\n",
        "        inequality_constraints=ineq_constraint\n",
        "    )\n",
        "\n",
        "    X_new = torch.round(X_new, decimals=1)\n",
        "\n",
        "    # 3.a (Optional) Find the closes test point\n",
        "    best_idx = -1\n",
        "    best_dist = np.inf\n",
        "    for idx, test_point in enumerate(X_test):\n",
        "        cur_dist = euclidean(X_new.squeeze(), test_point)\n",
        "        if cur_dist < best_dist:\n",
        "            best_dist = cur_dist\n",
        "            best_idx = idx\n",
        "\n",
        "    # 3.b Update the dataset by adding the new point\n",
        "    X_test_new = X_test[best_idx]\n",
        "    y_test_new = y_test[best_idx]\n",
        "\n",
        "    # Remove from test set\n",
        "    X_test = torch.cat((X_test[:best_idx], X_test[best_idx + 1:]))\n",
        "    y_test = torch.cat((y_test[:best_idx], y_test[best_idx + 1:]))\n",
        "\n",
        "    print(f\"Round: {i}\")\n",
        "    print(f\" - New experimental point: {X_new}\")\n",
        "    print(f\" - New acquisition value: {acqf_val}\")\n",
        "    print(f\" - Test point: {X_test_new}\")\n",
        "    print(f\" - Test evaluation: {y_test_new}\")\n",
        "    print(F\" - Dataset shape: {X_train.shape[0]}\")\n",
        "    print(\"\")\n",
        "\n",
        "    X_train = torch.vstack((X_train, X_test_new))\n",
        "    y_train = torch.vstack((y_train, y_test_new))"
      ],
      "metadata": {
        "colab": {
          "base_uri": "https://localhost:8080/"
        },
        "id": "TVgU6Ayz7Fqu",
        "outputId": "badc412d-cf2d-43d7-b8ea-313c2109909b"
      },
      "execution_count": null,
      "outputs": [
        {
          "output_type": "stream",
          "name": "stderr",
          "text": [
            "/usr/local/lib/python3.10/dist-packages/botorch/models/utils/assorted.py:174: InputDataWarning: Input data is not contained to the unit cube. Please consider min-max scaling the input data.\n",
            "  warnings.warn(msg, InputDataWarning)\n",
            "/usr/local/lib/python3.10/dist-packages/botorch/models/utils/assorted.py:202: InputDataWarning: Input data is not standardized (mean = tensor([2.9057], dtype=torch.float64), std = tensor([0.7905], dtype=torch.float64)). Please consider scaling the input to zero mean and unit variance.\n",
            "  warnings.warn(msg, InputDataWarning)\n"
          ]
        },
        {
          "output_type": "stream",
          "name": "stdout",
          "text": [
            "Round: 0\n",
            " - New experimental point: tensor([[11.1000,  0.3000,  0.1000]])\n",
            " - New acquisition value: 0.004766784527547638\n",
            " - Test point: tensor([9.1000, 0.0000, 0.0000], dtype=torch.float64)\n",
            " - Test evaluation: tensor([4.6700], dtype=torch.float64)\n",
            " - Dataset shape: 14\n",
            "\n"
          ]
        },
        {
          "output_type": "stream",
          "name": "stderr",
          "text": [
            "/usr/local/lib/python3.10/dist-packages/botorch/models/utils/assorted.py:174: InputDataWarning: Input data is not contained to the unit cube. Please consider min-max scaling the input data.\n",
            "  warnings.warn(msg, InputDataWarning)\n",
            "/usr/local/lib/python3.10/dist-packages/botorch/models/utils/assorted.py:202: InputDataWarning: Input data is not standardized (mean = tensor([3.0233], dtype=torch.float64), std = tensor([0.8876], dtype=torch.float64)). Please consider scaling the input to zero mean and unit variance.\n",
            "  warnings.warn(msg, InputDataWarning)\n"
          ]
        },
        {
          "output_type": "stream",
          "name": "stdout",
          "text": [
            "Round: 1\n",
            " - New experimental point: tensor([[1.8000, 0.3000, 3.7000]])\n",
            " - New acquisition value: 0.0005018686863872114\n",
            " - Test point: tensor([7.9000, 0.7000, 0.1000], dtype=torch.float64)\n",
            " - Test evaluation: tensor([3.6800], dtype=torch.float64)\n",
            " - Dataset shape: 15\n",
            "\n"
          ]
        },
        {
          "output_type": "stream",
          "name": "stderr",
          "text": [
            "/usr/local/lib/python3.10/dist-packages/botorch/models/utils/assorted.py:174: InputDataWarning: Input data is not contained to the unit cube. Please consider min-max scaling the input data.\n",
            "  warnings.warn(msg, InputDataWarning)\n",
            "/usr/local/lib/python3.10/dist-packages/botorch/models/utils/assorted.py:202: InputDataWarning: Input data is not standardized (mean = tensor([3.0644], dtype=torch.float64), std = tensor([0.8731], dtype=torch.float64)). Please consider scaling the input to zero mean and unit variance.\n",
            "  warnings.warn(msg, InputDataWarning)\n"
          ]
        },
        {
          "output_type": "stream",
          "name": "stdout",
          "text": [
            "Round: 2\n",
            " - New experimental point: tensor([[10.7000,  1.1000,  0.5000]])\n",
            " - New acquisition value: 0.00020863233449624393\n",
            " - Test point: tensor([9.3000, 1.2000, 1.8000], dtype=torch.float64)\n",
            " - Test evaluation: tensor([4.], dtype=torch.float64)\n",
            " - Dataset shape: 16\n",
            "\n"
          ]
        }
      ]
    },
    {
      "cell_type": "markdown",
      "source": [
        "print(X_train, y_train, X_test, y_test)"
      ],
      "metadata": {
        "id": "epaWRO4ADJ4V"
      }
    },
    {
      "cell_type": "code",
      "source": [
        "y_test"
      ],
      "metadata": {
        "colab": {
          "base_uri": "https://localhost:8080/"
        },
        "id": "YybJalnIwkmk",
        "outputId": "471dde17-fbb3-4347-d291-b896639b2a81"
      },
      "execution_count": null,
      "outputs": [
        {
          "output_type": "execute_result",
          "data": {
            "text/plain": [
              "tensor([], size=(0, 1), dtype=torch.float64)"
            ]
          },
          "metadata": {},
          "execution_count": 213
        }
      ]
    }
  ]
}